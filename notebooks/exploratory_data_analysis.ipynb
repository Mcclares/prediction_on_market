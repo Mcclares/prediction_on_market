{
 "cells": [
  {
   "cell_type": "markdown",
   "source": [
    "Прогнозирование цен на акции с использованием LSTM\n",
    "\n",
    " В этом ноутбуке мы будем использовать модель LSTM для прогнозирования цен на акции компании Apple (AAPL) на основе исторических данных.\n",
    "\n",
    "# Этап первый\n",
    "\n",
    "1. Сбор данных (Data Collection)\n",
    "2. Обработка данных (Data Preprocessing)\n",
    "3. Создание признаков (Feature Engineering)\n",
    "4. Разработка моделей (Model Development)\n",
    "5. Оценка моделей (Model Evaluation)\n",
    "6. Применение моделей (Model Deployment)\n",
    "\n",
    "---"
   ],
   "metadata": {
    "collapsed": false
   },
   "id": "7c6295e39b2ebec4"
  },
  {
   "cell_type": "markdown",
   "source": [
    "# Этап второй\n",
    "Оцениваем завтрашний день на основе исторический данных,папка next_day_prediction. Модель требует обработке, но пока все хорошо. В будущем надо будет улучшить модель."
   ],
   "metadata": {
    "collapsed": false
   },
   "id": "b27de88b76feb657"
  },
  {
   "cell_type": "markdown",
   "source": [
    "\n",
    "---\n",
    "# Этап третий \n",
    "Имплантируем reinforcement learning, для того чтобы ии мог покупать и продавать акции, тем самый тренироваться."
   ],
   "metadata": {
    "collapsed": false
   },
   "id": "5d2dd40a1b5744fa"
  },
  {
   "cell_type": "markdown",
   "source": [
    "## Шаги для реализации Reinforcement Learning\n",
    "1. Создание торгового окружения (Environment).\n",
    "2. Обучение агента (Agent).\n",
    "3. Использование обученного агента для торговли.\n",
    "\n"
   ],
   "metadata": {
    "collapsed": false
   },
   "id": "14af1dd443bf45a3"
  },
  {
   "cell_type": "markdown",
   "source": [],
   "metadata": {
    "collapsed": false
   },
   "id": "2c87ec4e64375f0c"
  }
 ],
 "metadata": {
  "kernelspec": {
   "display_name": "Python 3",
   "language": "python",
   "name": "python3"
  },
  "language_info": {
   "codemirror_mode": {
    "name": "ipython",
    "version": 2
   },
   "file_extension": ".py",
   "mimetype": "text/x-python",
   "name": "python",
   "nbconvert_exporter": "python",
   "pygments_lexer": "ipython2",
   "version": "2.7.6"
  }
 },
 "nbformat": 4,
 "nbformat_minor": 5
}
